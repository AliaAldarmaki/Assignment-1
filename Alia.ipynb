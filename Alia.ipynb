{
  "nbformat": 4,
  "nbformat_minor": 0,
  "metadata": {
    "colab": {
      "provenance": []
    },
    "kernelspec": {
      "name": "python3",
      "display_name": "Python 3"
    },
    "language_info": {
      "name": "python"
    }
  },
  "cells": [
    {
      "cell_type": "code",
      "source": [
        "class AirlineStaff:\n",
        "    # AirlineStaff class shows staff that works for the airline.\n",
        "\n",
        "    def __init__(self, name, flight_number, passenger_info):\n",
        "        # Initializes an AirlineStaff object with name, flight number, and passenger information.\n",
        "        self.name = name\n",
        "        self.flight_number = flight_number\n",
        "        self.passenger_info = passenger_info\n",
        "\n",
        "    def get_name(self):\n",
        "        # Get the name of the airline staff.\n",
        "        return self.name\n",
        "\n",
        "    def get_flight(self):\n",
        "        # Get the flight number linked with the staff.\n",
        "        return self.flight_number\n",
        "\n",
        "    def get_passenger_info(self):\n",
        "        # Get the passenger data linked with the staff.\n",
        "        return self.passenger_info\n",
        "\n",
        "\n",
        "class Passenger:\n",
        "    # Passenger class represents a passenger on a flight.\n",
        "\n",
        "    def __init__(self, name, ticket_number, seat_number):\n",
        "        # Initializes a Passenger object with name, ticket number, and seat number.\n",
        "        self.name = name\n",
        "        self.ticket_number = ticket_number\n",
        "        self.seat_number = seat_number\n",
        "\n",
        "    def get_name(self):\n",
        "        # Get the name of the passenger.\n",
        "        return self.name\n",
        "\n",
        "    def get_ticket_number(self):\n",
        "        # Get the ticket number of the passenger.\n",
        "        return self.ticket_number\n",
        "\n",
        "    def get_seat_number(self):\n",
        "        # Get the seat number of the passenger.\n",
        "        return self.seat_number\n",
        "\n",
        "\n",
        "class Flight:\n",
        "    # Flight class represents a flight.\n",
        "\n",
        "    def __init__(self, flight_number, departure_airport, destination_airport, departure_datetime, arrival_datetime, gate_number):\n",
        "        # Initializes a Flight object with flight details.\n",
        "        self.flight_number = flight_number\n",
        "        self.departure_airport = departure_airport\n",
        "        self.destination_airport = destination_airport\n",
        "        self.departure_datetime = departure_datetime\n",
        "        self.arrival_datetime = arrival_datetime\n",
        "        self.gate_number = gate_number\n",
        "\n",
        "    def get_flight_number(self):\n",
        "        # Get the flight number.\n",
        "        return self.flight_number\n",
        "\n",
        "    def get_departure_airport(self):\n",
        "        # Get the departure airport.\n",
        "        return self.departure_airport\n",
        "\n",
        "    def get_destination_airport(self):\n",
        "        # Get the destination airport.\n",
        "        return self.destination_airport\n",
        "\n",
        "    def get_departure_datetime(self):\n",
        "        # Get the departure date and time.\n",
        "        return self.departure_datetime\n",
        "\n",
        "    def get_arrival_datetime(self):\n",
        "        # Get the arrival date and time.\n",
        "        return self.arrival_datetime\n",
        "\n",
        "    def get_gate_number(self):\n",
        "        # Get the gate number.\n",
        "        return self.gate_number\n",
        "\n",
        "\n",
        "class BoardingPass:\n",
        "    # BoardingPass class represents a boarding pass for a passenger.\n",
        "\n",
        "    def __init__(self, passenger_name, flight_number, departure_airport, destination_airport, arrival_datetime, gate_number, seat_number, electronic_ticket):\n",
        "        # Initializes a BoardingPass object with passenger and flight details.\n",
        "        self.passenger_name = passenger_name\n",
        "        self.flight_number = flight_number\n",
        "        self.departure_airport = departure_airport\n",
        "        self.destination_airport = destination_airport\n",
        "        self.arrival_datetime = arrival_datetime\n",
        "        self.gate_number = gate_number\n",
        "        self.seat_number = seat_number\n",
        "        self.electronic_ticket = electronic_ticket\n",
        "\n",
        "    def get_passenger_name(self):\n",
        "        # Get the name of the passenger.\n",
        "        return self.passenger_name\n",
        "\n",
        "    def get_flight_number(self):\n",
        "        # Get the flight number.\n",
        "        return self.flight_number\n",
        "\n",
        "    def get_departure_airport(self):\n",
        "        # Get the departure airport.\n",
        "        return self.departure_airport\n",
        "\n",
        "    def get_destination_airport(self):\n",
        "        # Get the destination airport.\n",
        "        return self.destination_airport\n",
        "\n",
        "    def get_arrival_datetime(self):\n",
        "        # Get the arrival date and time.\n",
        "        return self.arrival_datetime\n",
        "\n",
        "    def get_gate_number(self):\n",
        "        # Get the gate number.\n",
        "        return self.gate_number\n",
        "\n",
        "    def get_seat_number(self):\n",
        "        # Get the seat number.\n",
        "        return self.seat_number\n",
        "\n",
        "    def get_electronic_ticket(self):\n",
        "        # Get the electronic ticket number.\n",
        "        return self.electronic_ticket\n",
        "\n",
        "\n",
        "class NotificationService:\n",
        "    # NotificationService class represents a service for sending notifications.\n",
        "\n",
        "    def __init__(self, send_notification):\n",
        "        # Initializes a NotificationService object with a function for sending notifications.\n",
        "        self.send_notification = send_notification\n",
        "\n",
        "    def set_send_notification(self, notification):\n",
        "        # Set the function for sending notifications.\n",
        "        self.send_notification = notification\n"
      ],
      "metadata": {
        "id": "dmCu3A1OF9MJ"
      },
      "execution_count": 8,
      "outputs": []
    },
    {
      "cell_type": "code",
      "source": [
        "\n",
        "# Valid passenger data\n",
        "passenger_name = \"Alia\"\n",
        "ticket_number = \"T123456789\"\n",
        "seat_number = \"A1\"\n",
        "\n",
        "# Valid flight data\n",
        "flight_number = \"ABC123\"\n",
        "departure_airport = \"Airport A\"\n",
        "destination_airport = \"Airport B\"\n",
        "departure_datetime = datetime(2024, 3, 15, 10, 0)\n",
        "arrival_datetime = datetime(2024, 3, 15, 12, 0)\n",
        "gate_number = \"Gate 1\"\n",
        "\n",
        "# Generate boarding pass with valid data\n",
        "boarding_pass = BoardingPass(passenger_name, flight_number, departure_airport, destination_airport,\n",
        "                             arrival_datetime, gate_number, seat_number, ticket_number)\n",
        "\n",
        "# Check if boarding pass is generated successfully with all provided details\n",
        "if (boarding_pass.get_passenger_name() == passenger_name and\n",
        "    boarding_pass.get_flight_number() == flight_number and\n",
        "    boarding_pass.get_departure_airport() == departure_airport and\n",
        "    boarding_pass.get_destination_airport() == destination_airport and\n",
        "    boarding_pass.get_arrival_datetime() == arrival_datetime and\n",
        "    boarding_pass.get_gate_number() == gate_number and\n",
        "    boarding_pass.get_seat_number() == seat_number and\n",
        "    boarding_pass.get_electronic_ticket() == ticket_number):\n",
        "\n",
        "    print(\"Boarding pass generated successfully.\")\n",
        "else:\n",
        "    print(\"Failed to generate boarding pass with all provided details.\")\n"
      ],
      "metadata": {
        "colab": {
          "base_uri": "https://localhost:8080/"
        },
        "id": "jWhbZBT0G7xJ",
        "outputId": "def9440a-bac4-473b-92a5-ed8f9803573a"
      },
      "execution_count": 10,
      "outputs": [
        {
          "output_type": "stream",
          "name": "stdout",
          "text": [
            "Boarding pass generated successfully.\n"
          ]
        }
      ]
    },
    {
      "cell_type": "code",
      "source": [
        "# Invalid passenger information (missing name)\n",
        "invalid_passenger_name = \"\"\n",
        "ticket_number = \"T123456789\"\n",
        "seat_number = \"A1\"\n",
        "\n",
        "# Valid flight information\n",
        "flight_number = \"ABC123\"\n",
        "departure_airport = \"Airport A\"\n",
        "destination_airport = \"Airport B\"\n",
        "departure_datetime = datetime(2024, 3, 15, 10, 0)\n",
        "arrival_datetime = datetime(2024, 3, 15, 12, 0)\n",
        "gate_number = \"Gate 1\"\n",
        "\n",
        "# Check if any required passenger data is missing or invalid\n",
        "if not all([invalid_passenger_name, ticket_number, seat_number]):\n",
        "    print(\"Error: Invalid or incomplete passenger information.\")\n",
        "else:\n",
        "    # Generate boarding pass with provided data\n",
        "    boarding_pass = BoardingPass(invalid_passenger_name, flight_number, departure_airport, destination_airport,\n",
        "                                 arrival_datetime, gate_number, seat_number, ticket_number)\n",
        "    print(\"Boarding pass generated successfully.\")  # This line should not be reached\n",
        "\n"
      ],
      "metadata": {
        "id": "7ZRi8snYG-5x",
        "outputId": "e7deca35-741e-40a7-bcbf-8034f258a1fb",
        "colab": {
          "base_uri": "https://localhost:8080/"
        }
      },
      "execution_count": 11,
      "outputs": [
        {
          "output_type": "stream",
          "name": "stdout",
          "text": [
            "Error: Invalid or incomplete passenger information.\n"
          ]
        }
      ]
    },
    {
      "cell_type": "code",
      "source": [
        "class MockNotificationService:\n",
        "    def __init__(self):\n",
        "        self.notifications_sent = []\n",
        "\n",
        "    def send_notification(self, message):\n",
        "        self.notifications_sent.append(message)\n",
        "\n",
        "# Create a mock notification service\n",
        "notification_service = MockNotificationService()\n",
        "\n",
        "# Create a boarding pass\n",
        "boarding_pass = BoardingPass(\"Alia\", \"ABC123\", \"Airport A\", \"Airport B\",\n",
        "                             datetime(2024, 3, 15, 10, 0), \"Gate 1\", \"A1\", \"1234567890\")\n",
        "\n",
        "# Trigger a notification for the boarding pass\n",
        "notification_message = f\"Notification sent to {boarding_pass.get_passenger_name()} regarding cancellation of flight {boarding_pass.get_flight_number()}\"\n",
        "notification_service.send_notification(notification_message)\n",
        "\n",
        "# Check if the notification was sent\n",
        "if notification_message in notification_service.notifications_sent:\n",
        "    print(notification_message)\n",
        "else:\n",
        "    print(\"Notification not sent. Test failed.\")\n"
      ],
      "metadata": {
        "id": "fwrFRddOHExQ",
        "outputId": "1bdfbdab-000b-41ec-b523-75c979724071",
        "colab": {
          "base_uri": "https://localhost:8080/"
        }
      },
      "execution_count": 12,
      "outputs": [
        {
          "output_type": "stream",
          "name": "stdout",
          "text": [
            "Notification sent to Alia regarding cancellation of flight ABC123\n"
          ]
        }
      ]
    }
  ]
}